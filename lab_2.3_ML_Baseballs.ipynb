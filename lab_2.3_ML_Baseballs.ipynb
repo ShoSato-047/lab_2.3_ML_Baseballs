{
 "cells": [
  {
   "cell_type": "code",
   "execution_count": 9,
   "id": "9c732fd0-017f-4c96-8d5c-d0b59bd43490",
   "metadata": {},
   "outputs": [],
   "source": [
    "import sklearn\n",
    "import pandas as pd\n",
    "import polars as pl\n",
    "import numpy as np\n",
    "import matplotlib.pyplot as plt"
   ]
  },
  {
   "cell_type": "code",
   "execution_count": 10,
   "id": "e5cf992b-0e56-49e0-b167-ca4c5d85cc7a",
   "metadata": {},
   "outputs": [],
   "source": [
    "#!dir"
   ]
  },
  {
   "cell_type": "markdown",
   "id": "3b4f1983-2130-4048-88ee-4873f5d391c9",
   "metadata": {},
   "source": [
    "# Classification Problem\n",
    "Y = gold_glove\n",
    "X = lgID, POS"
   ]
  },
  {
   "cell_type": "code",
   "execution_count": 12,
   "id": "57f222e3-34a0-4b43-aa0f-e052f7442463",
   "metadata": {},
   "outputs": [
    {
     "data": {
      "text/html": [
       "<div><style>\n",
       ".dataframe > thead > tr,\n",
       ".dataframe > tbody > tr {\n",
       "  text-align: right;\n",
       "  white-space: pre-wrap;\n",
       "}\n",
       "</style>\n",
       "<small>shape: (5, 7)</small><table border=\"1\" class=\"dataframe\"><thead><tr><th>playerID</th><th>yearID</th><th>lgID</th><th>POS</th><th>awardID</th><th>gold_glove</th><th>Training_Validation</th></tr><tr><td>str</td><td>i64</td><td>str</td><td>str</td><td>str</td><td>str</td><td>str</td></tr></thead><tbody><tr><td>&quot;aardsda01&quot;</td><td>2013</td><td>&quot;NL&quot;</td><td>&quot;P&quot;</td><td>null</td><td>&quot;NO&quot;</td><td>&quot;Training&quot;</td></tr><tr><td>&quot;aardsda01&quot;</td><td>2015</td><td>&quot;NL&quot;</td><td>&quot;P&quot;</td><td>null</td><td>&quot;NO&quot;</td><td>&quot;Training&quot;</td></tr><tr><td>&quot;abadfe01&quot;</td><td>2013</td><td>&quot;NL&quot;</td><td>&quot;P&quot;</td><td>null</td><td>&quot;NO&quot;</td><td>&quot;Training&quot;</td></tr><tr><td>&quot;abadfe01&quot;</td><td>2014</td><td>&quot;AL&quot;</td><td>&quot;P&quot;</td><td>null</td><td>&quot;NO&quot;</td><td>&quot;Training&quot;</td></tr><tr><td>&quot;abadfe01&quot;</td><td>2015</td><td>&quot;AL&quot;</td><td>&quot;P&quot;</td><td>null</td><td>&quot;NO&quot;</td><td>&quot;Training&quot;</td></tr></tbody></table></div>"
      ],
      "text/plain": [
       "shape: (5, 7)\n",
       "┌───────────┬────────┬──────┬─────┬─────────┬────────────┬─────────────────────┐\n",
       "│ playerID  ┆ yearID ┆ lgID ┆ POS ┆ awardID ┆ gold_glove ┆ Training_Validation │\n",
       "│ ---       ┆ ---    ┆ ---  ┆ --- ┆ ---     ┆ ---        ┆ ---                 │\n",
       "│ str       ┆ i64    ┆ str  ┆ str ┆ str     ┆ str        ┆ str                 │\n",
       "╞═══════════╪════════╪══════╪═════╪═════════╪════════════╪═════════════════════╡\n",
       "│ aardsda01 ┆ 2013   ┆ NL   ┆ P   ┆ null    ┆ NO         ┆ Training            │\n",
       "│ aardsda01 ┆ 2015   ┆ NL   ┆ P   ┆ null    ┆ NO         ┆ Training            │\n",
       "│ abadfe01  ┆ 2013   ┆ NL   ┆ P   ┆ null    ┆ NO         ┆ Training            │\n",
       "│ abadfe01  ┆ 2014   ┆ AL   ┆ P   ┆ null    ┆ NO         ┆ Training            │\n",
       "│ abadfe01  ┆ 2015   ┆ AL   ┆ P   ┆ null    ┆ NO         ┆ Training            │\n",
       "└───────────┴────────┴──────┴─────┴─────────┴────────────┴─────────────────────┘"
      ]
     },
     "execution_count": 12,
     "metadata": {},
     "output_type": "execute_result"
    }
   ],
   "source": [
    "gold_glove = pl.read_csv('./data/gold_glove.csv')\n",
    "gold_glove.head()"
   ]
  },
  {
   "cell_type": "code",
   "execution_count": 13,
   "id": "31ece950-3142-4cb6-8ca7-5dbb02a0667c",
   "metadata": {},
   "outputs": [
    {
     "data": {
      "text/html": [
       "<div><style>\n",
       ".dataframe > thead > tr,\n",
       ".dataframe > tbody > tr {\n",
       "  text-align: right;\n",
       "  white-space: pre-wrap;\n",
       "}\n",
       "</style>\n",
       "<small>shape: (5, 7)</small><table border=\"1\" class=\"dataframe\"><thead><tr><th>playerID</th><th>yearID</th><th>lgID</th><th>POS</th><th>awardID</th><th>gold_glove</th><th>Training_Validation</th></tr><tr><td>str</td><td>i64</td><td>str</td><td>str</td><td>str</td><td>str</td><td>str</td></tr></thead><tbody><tr><td>&quot;aardsda01&quot;</td><td>2013</td><td>&quot;NL&quot;</td><td>&quot;P&quot;</td><td>null</td><td>&quot;NO&quot;</td><td>&quot;Training&quot;</td></tr><tr><td>&quot;aardsda01&quot;</td><td>2015</td><td>&quot;NL&quot;</td><td>&quot;P&quot;</td><td>null</td><td>&quot;NO&quot;</td><td>&quot;Training&quot;</td></tr><tr><td>&quot;abadfe01&quot;</td><td>2013</td><td>&quot;NL&quot;</td><td>&quot;P&quot;</td><td>null</td><td>&quot;NO&quot;</td><td>&quot;Training&quot;</td></tr><tr><td>&quot;abadfe01&quot;</td><td>2014</td><td>&quot;AL&quot;</td><td>&quot;P&quot;</td><td>null</td><td>&quot;NO&quot;</td><td>&quot;Training&quot;</td></tr><tr><td>&quot;abadfe01&quot;</td><td>2015</td><td>&quot;AL&quot;</td><td>&quot;P&quot;</td><td>null</td><td>&quot;NO&quot;</td><td>&quot;Training&quot;</td></tr></tbody></table></div>"
      ],
      "text/plain": [
       "shape: (5, 7)\n",
       "┌───────────┬────────┬──────┬─────┬─────────┬────────────┬─────────────────────┐\n",
       "│ playerID  ┆ yearID ┆ lgID ┆ POS ┆ awardID ┆ gold_glove ┆ Training_Validation │\n",
       "│ ---       ┆ ---    ┆ ---  ┆ --- ┆ ---     ┆ ---        ┆ ---                 │\n",
       "│ str       ┆ i64    ┆ str  ┆ str ┆ str     ┆ str        ┆ str                 │\n",
       "╞═══════════╪════════╪══════╪═════╪═════════╪════════════╪═════════════════════╡\n",
       "│ aardsda01 ┆ 2013   ┆ NL   ┆ P   ┆ null    ┆ NO         ┆ Training            │\n",
       "│ aardsda01 ┆ 2015   ┆ NL   ┆ P   ┆ null    ┆ NO         ┆ Training            │\n",
       "│ abadfe01  ┆ 2013   ┆ NL   ┆ P   ┆ null    ┆ NO         ┆ Training            │\n",
       "│ abadfe01  ┆ 2014   ┆ AL   ┆ P   ┆ null    ┆ NO         ┆ Training            │\n",
       "│ abadfe01  ┆ 2015   ┆ AL   ┆ P   ┆ null    ┆ NO         ┆ Training            │\n",
       "└───────────┴────────┴──────┴─────┴─────────┴────────────┴─────────────────────┘"
      ]
     },
     "execution_count": 13,
     "metadata": {},
     "output_type": "execute_result"
    }
   ],
   "source": [
    "training_gold_glove = (gold_glove\n",
    "                      .filter(pl.col('Training_Validation') == 'Training')\n",
    "                      )\n",
    "training_gold_glove.head()"
   ]
  },
  {
   "cell_type": "code",
   "execution_count": 17,
   "id": "bf399474-603f-4377-9e06-b938884a78d0",
   "metadata": {},
   "outputs": [
    {
     "data": {
      "text/plain": [
       "['Training']"
      ]
     },
     "execution_count": 17,
     "metadata": {},
     "output_type": "execute_result"
    }
   ],
   "source": [
    "# Making sure the original data is filtered only for 'training'\n",
    "\n",
    "training_gold_glove['Training_Validation'].unique().to_list()"
   ]
  },
  {
   "cell_type": "code",
   "execution_count": null,
   "id": "7c66702f-fa63-4c6f-a83b-b4a1bf7f781b",
   "metadata": {},
   "outputs": [],
   "source": []
  },
  {
   "cell_type": "markdown",
   "id": "cf737144-c7ef-4cd7-b8d0-6ca1a1b7be7e",
   "metadata": {},
   "source": [
    "# Regression Problem"
   ]
  },
  {
   "cell_type": "code",
   "execution_count": 8,
   "id": "e2e6620d-e28d-44a8-8c38-268a9a750488",
   "metadata": {},
   "outputs": [
    {
     "data": {
      "text/html": [
       "<div><style>\n",
       ".dataframe > thead > tr,\n",
       ".dataframe > tbody > tr {\n",
       "  text-align: right;\n",
       "  white-space: pre-wrap;\n",
       "}\n",
       "</style>\n",
       "<small>shape: (5, 38)</small><table border=\"1\" class=\"dataframe\"><thead><tr><th>playerID</th><th>yearID</th><th>salary</th><th>stint</th><th>G</th><th>G_batting</th><th>AB</th><th>R</th><th>H</th><th>2B</th><th>3B</th><th>HR</th><th>RBI</th><th>SB</th><th>CS</th><th>BB</th><th>SO</th><th>IBB</th><th>HBP</th><th>SH</th><th>SF</th><th>GIDP</th><th>W</th><th>L</th><th>GS</th><th>CG</th><th>SHO</th><th>SV</th><th>IPouts</th><th>ER</th><th>HR_right</th><th>BAOpp</th><th>ERA</th><th>WP</th><th>BK</th><th>BFP</th><th>GF</th><th>Training_Validation</th></tr><tr><td>str</td><td>i64</td><td>f64</td><td>i64</td><td>i64</td><td>i64</td><td>i64</td><td>i64</td><td>i64</td><td>i64</td><td>i64</td><td>i64</td><td>i64</td><td>i64</td><td>i64</td><td>i64</td><td>i64</td><td>i64</td><td>i64</td><td>i64</td><td>i64</td><td>i64</td><td>i64</td><td>i64</td><td>i64</td><td>i64</td><td>i64</td><td>i64</td><td>i64</td><td>i64</td><td>i64</td><td>f64</td><td>f64</td><td>i64</td><td>i64</td><td>i64</td><td>i64</td><td>str</td></tr></thead><tbody><tr><td>&quot;metcatr01&quot;</td><td>2008</td><td>392000.0</td><td>1</td><td>23</td><td>0</td><td>56</td><td>11</td><td>13</td><td>2</td><td>0</td><td>6</td><td>14</td><td>0</td><td>0</td><td>3</td><td>12</td><td>0</td><td>1</td><td>0</td><td>1</td><td>2</td><td>null</td><td>null</td><td>null</td><td>null</td><td>null</td><td>null</td><td>null</td><td>null</td><td>null</td><td>null</td><td>null</td><td>null</td><td>null</td><td>null</td><td>null</td><td>&quot;Training&quot;</td></tr><tr><td>&quot;garkory01&quot;</td><td>2010</td><td>550000.0</td><td>1</td><td>15</td><td>0</td><td>33</td><td>0</td><td>3</td><td>0</td><td>0</td><td>0</td><td>3</td><td>0</td><td>0</td><td>3</td><td>4</td><td>1</td><td>0</td><td>2</td><td>0</td><td>1</td><td>null</td><td>null</td><td>null</td><td>null</td><td>null</td><td>null</td><td>null</td><td>null</td><td>null</td><td>null</td><td>null</td><td>null</td><td>null</td><td>null</td><td>null</td><td>&quot;Training&quot;</td></tr><tr><td>&quot;sanchga01&quot;</td><td>2012</td><td>483000.0</td><td>3</td><td>105</td><td>0</td><td>299</td><td>30</td><td>65</td><td>16</td><td>0</td><td>7</td><td>30</td><td>1</td><td>0</td><td>25</td><td>56</td><td>2</td><td>1</td><td>0</td><td>1</td><td>13</td><td>null</td><td>null</td><td>null</td><td>null</td><td>null</td><td>null</td><td>null</td><td>null</td><td>null</td><td>null</td><td>null</td><td>null</td><td>null</td><td>null</td><td>null</td><td>&quot;Training&quot;</td></tr><tr><td>&quot;hoffmtr01&quot;</td><td>2007</td><td>7e6</td><td>1</td><td>61</td><td>0</td><td>0</td><td>0</td><td>0</td><td>0</td><td>0</td><td>0</td><td>0</td><td>0</td><td>0</td><td>0</td><td>0</td><td>0</td><td>0</td><td>0</td><td>0</td><td>0</td><td>4</td><td>5</td><td>0</td><td>0</td><td>0</td><td>42</td><td>172</td><td>19</td><td>2</td><td>0.228</td><td>2.98</td><td>0</td><td>0</td><td>235</td><td>50</td><td>&quot;Training&quot;</td></tr><tr><td>&quot;mauerjo01&quot;</td><td>2006</td><td>400000.0</td><td>1</td><td>140</td><td>0</td><td>521</td><td>86</td><td>181</td><td>36</td><td>4</td><td>13</td><td>84</td><td>8</td><td>3</td><td>79</td><td>54</td><td>21</td><td>1</td><td>0</td><td>7</td><td>24</td><td>null</td><td>null</td><td>null</td><td>null</td><td>null</td><td>null</td><td>null</td><td>null</td><td>null</td><td>null</td><td>null</td><td>null</td><td>null</td><td>null</td><td>null</td><td>&quot;Training&quot;</td></tr></tbody></table></div>"
      ],
      "text/plain": [
       "shape: (5, 38)\n",
       "┌───────────┬────────┬──────────┬───────┬───┬──────┬──────┬──────┬─────────────────────┐\n",
       "│ playerID  ┆ yearID ┆ salary   ┆ stint ┆ … ┆ BK   ┆ BFP  ┆ GF   ┆ Training_Validation │\n",
       "│ ---       ┆ ---    ┆ ---      ┆ ---   ┆   ┆ ---  ┆ ---  ┆ ---  ┆ ---                 │\n",
       "│ str       ┆ i64    ┆ f64      ┆ i64   ┆   ┆ i64  ┆ i64  ┆ i64  ┆ str                 │\n",
       "╞═══════════╪════════╪══════════╪═══════╪═══╪══════╪══════╪══════╪═════════════════════╡\n",
       "│ metcatr01 ┆ 2008   ┆ 392000.0 ┆ 1     ┆ … ┆ null ┆ null ┆ null ┆ Training            │\n",
       "│ garkory01 ┆ 2010   ┆ 550000.0 ┆ 1     ┆ … ┆ null ┆ null ┆ null ┆ Training            │\n",
       "│ sanchga01 ┆ 2012   ┆ 483000.0 ┆ 3     ┆ … ┆ null ┆ null ┆ null ┆ Training            │\n",
       "│ hoffmtr01 ┆ 2007   ┆ 7e6      ┆ 1     ┆ … ┆ 0    ┆ 235  ┆ 50   ┆ Training            │\n",
       "│ mauerjo01 ┆ 2006   ┆ 400000.0 ┆ 1     ┆ … ┆ null ┆ null ┆ null ┆ Training            │\n",
       "└───────────┴────────┴──────────┴───────┴───┴──────┴──────┴──────┴─────────────────────┘"
      ]
     },
     "execution_count": 8,
     "metadata": {},
     "output_type": "execute_result"
    }
   ],
   "source": [
    "salaries = pl.read_csv('./data/salaries_df.csv')\n",
    "salaries.head()"
   ]
  },
  {
   "cell_type": "code",
   "execution_count": null,
   "id": "3d3fae1b-2d07-4884-a7b3-5c33772f39b6",
   "metadata": {},
   "outputs": [],
   "source": []
  }
 ],
 "metadata": {
  "kernelspec": {
   "display_name": "Python 3 (ipykernel)",
   "language": "python",
   "name": "python3"
  },
  "language_info": {
   "codemirror_mode": {
    "name": "ipython",
    "version": 3
   },
   "file_extension": ".py",
   "mimetype": "text/x-python",
   "name": "python",
   "nbconvert_exporter": "python",
   "pygments_lexer": "ipython3",
   "version": "3.12.5"
  }
 },
 "nbformat": 4,
 "nbformat_minor": 5
}
